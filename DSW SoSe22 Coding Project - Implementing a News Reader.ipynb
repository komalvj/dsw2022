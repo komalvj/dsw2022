{
 "cells": [
  {
   "cell_type": "markdown",
   "id": "c54c3726",
   "metadata": {},
   "source": [
    "# Sentiment Analysis on News arcticles for Cryptocurrencies"
   ]
  },
  {
   "cell_type": "code",
   "execution_count": 1,
   "id": "9d7caddf",
   "metadata": {},
   "outputs": [
    {
     "name": "stderr",
     "output_type": "stream",
     "text": [
      "[nltk_data] Downloading package punkt to\n",
      "[nltk_data]     /Users/komal.jadhav/nltk_data...\n",
      "[nltk_data]   Package punkt is already up-to-date!\n"
     ]
    },
    {
     "data": {
      "text/plain": [
       "True"
      ]
     },
     "execution_count": 1,
     "metadata": {},
     "output_type": "execute_result"
    }
   ],
   "source": [
    "# import the libraries\n",
    "import requests\n",
    "from newspaper import Article, ArticleException\n",
    "from bs4 import BeautifulSoup\n",
    "from dateutil.rrule import *\n",
    "from datetime import *\n",
    "from textblob import TextBlob\n",
    "import pandas as pd\n",
    "import numpy as np\n",
    "import nltk\n",
    "import csv\n",
    "import seaborn as sns\n",
    "\n",
    "nltk.download('punkt')"
   ]
  },
  {
   "cell_type": "code",
   "execution_count": 2,
   "id": "48b3d8f2",
   "metadata": {},
   "outputs": [],
   "source": [
    "start_dates = [datetime.strftime(dt, \"%Y-%m-%d\") for dt in rrule(MONTHLY, dtstart=datetime(2022, 1, 1), until=datetime(2022, 6, 1))]\n",
    "end_dates = [datetime.strftime(dt, \"%Y-%m-%d\") for dt in rrule(MONTHLY, dtstart=datetime(2022, 1, 31), bymonthday=(31, -1), bysetpos=1, until=datetime(2022, 6, 30))]\n",
    "dates_list = list(zip(start_dates, end_dates))\n",
    "# print(dates_list)"
   ]
  },
  {
   "cell_type": "markdown",
   "id": "74a23228",
   "metadata": {},
   "source": [
    "### Scraping the data and performing sentiment analysis using TextBlob"
   ]
  },
  {
   "cell_type": "code",
   "execution_count": 3,
   "id": "331fb5a1",
   "metadata": {},
   "outputs": [],
   "source": [
    "def get_articles(dates):\n",
    "    news_sites = ['cnbc.com', 'dw.com']\n",
    "    data = []\n",
    "\n",
    "    for site in news_sites:\n",
    "        \n",
    "        # loop through each set of dates you wish to input\n",
    "        for date1, date2 in dates:\n",
    "            articles = []\n",
    "\n",
    "            # URL of the Google News RSS with cryptocurrency in the search parameter\n",
    "            main_url = \"https://news.google.com/rss/search?q=cryptocurrency+after:\" + date1 + \"+before:\" + date2 + \"+site:\" + site + \"&ceid=US:en&hl=en-US&gl=US\"\n",
    "\n",
    "            # get the results in the RSS and collect the links\n",
    "            response = requests.get(main_url)\n",
    "            webpage = response.content\n",
    "            soup = BeautifulSoup(webpage, features=\"xml\")\n",
    "            items = soup.find_all('item')\n",
    "            for item in items:\n",
    "                link = item.find('link').text\n",
    "                articles.append(link)\n",
    "\n",
    "            # parse the articles and get the polarity and subjectivity scores for each in your \n",
    "            # specified time frame\n",
    "            for url in articles:\n",
    "                # print(url)\n",
    "                # We throw this in a try/except block in case we get a bad link which would kill the program\n",
    "                try:\n",
    "                    # Newspaper3k to scrape the article text and title\n",
    "                    article = Article(url)\n",
    "                    article.download()\n",
    "                    article.parse()\n",
    "                    article.nlp()\n",
    "\n",
    "                    title = article.title\n",
    "                    text = article.text\n",
    "\n",
    "                    # to make sure that the article does include cryptocurrency\n",
    "                    # depending on your criteria, Google will often give you completely irrelevant results\n",
    "                    if 'crypto' in text:\n",
    "\n",
    "                        # run sentiment analysis on the article text\n",
    "                        # create a Textblob object and then get the sentiment values and store them\n",
    "                        text_blob = TextBlob(text)\n",
    "                        polarity = text_blob.polarity\n",
    "                        subjectivity = text_blob.subjectivity\n",
    "\n",
    "                        # in case we get a non-article as a link - do not include in data \n",
    "                        if polarity == 0 and subjectivity == 0:\n",
    "                            pass\n",
    "                        else:\n",
    "                            # Save the necessary data to then put in a csv file\n",
    "                            save = [site, url, title, datetime.strptime(date2, '%Y-%m-%d').strftime('%Y-%m'), polarity, subjectivity] \n",
    "                            data.append(save)\n",
    "\n",
    "                # If there is a bad link, move on to the next one\n",
    "                except ArticleException:\n",
    "                    pass\n",
    "\n",
    "    return(data)\n",
    "\n",
    "# collect the article data with our specified dates\n",
    "articles = get_articles(dates_list)\n",
    "\n",
    "# write data to csv\n",
    "with open('combined.csv', 'w') as csv_file:\n",
    "    header = ['News Source', 'URL', 'Title', 'Month', 'Polarity', 'Subjectivity']\n",
    "    writer = csv.writer(csv_file)\n",
    "    writer.writerow(header)\n",
    "    writer.writerows(articles)\n",
    "    csv_file.close()"
   ]
  },
  {
   "cell_type": "code",
   "execution_count": 4,
   "id": "96b1d174",
   "metadata": {},
   "outputs": [],
   "source": [
    "# set the dataframe\n",
    "df = pd.read_csv(\"combined.csv\")\n",
    "\n",
    "# create a function to get Sentiments based on the Polarity\n",
    "def getSentiment(score):\n",
    "    if score < 0:\n",
    "        return 'negative'\n",
    "    elif score == 0:\n",
    "        return 'neutral'\n",
    "    else:\n",
    "        return 'positive'\n",
    "\n",
    "# create a new column 'Sentiment' and apply the getSentiment() function\n",
    "df['Sentiment'] = df['Polarity'].apply(getSentiment)"
   ]
  },
  {
   "cell_type": "code",
   "execution_count": 5,
   "id": "0cdfba8d",
   "metadata": {},
   "outputs": [
    {
     "data": {
      "text/html": [
       "<div>\n",
       "<style scoped>\n",
       "    .dataframe tbody tr th:only-of-type {\n",
       "        vertical-align: middle;\n",
       "    }\n",
       "\n",
       "    .dataframe tbody tr th {\n",
       "        vertical-align: top;\n",
       "    }\n",
       "\n",
       "    .dataframe thead th {\n",
       "        text-align: right;\n",
       "    }\n",
       "</style>\n",
       "<table border=\"1\" class=\"dataframe\">\n",
       "  <thead>\n",
       "    <tr style=\"text-align: right;\">\n",
       "      <th></th>\n",
       "      <th>News Source</th>\n",
       "      <th>URL</th>\n",
       "      <th>Title</th>\n",
       "      <th>Month</th>\n",
       "      <th>Polarity</th>\n",
       "      <th>Subjectivity</th>\n",
       "      <th>Sentiment</th>\n",
       "    </tr>\n",
       "  </thead>\n",
       "  <tbody>\n",
       "    <tr>\n",
       "      <th>0</th>\n",
       "      <td>cnbc.com</td>\n",
       "      <td>https://www.cnbc.com/2022/01/06/crypto-scammer...</td>\n",
       "      <td>Crypto scammers took a record $14 billion in 2021</td>\n",
       "      <td>2022-01</td>\n",
       "      <td>0.202862</td>\n",
       "      <td>0.492162</td>\n",
       "      <td>positive</td>\n",
       "    </tr>\n",
       "    <tr>\n",
       "      <th>1</th>\n",
       "      <td>cnbc.com</td>\n",
       "      <td>https://www.cnbc.com/2022/01/26/mark-zuckerber...</td>\n",
       "      <td>Mark Zuckerberg's botched cryptocurrency proje...</td>\n",
       "      <td>2022-01</td>\n",
       "      <td>0.065416</td>\n",
       "      <td>0.314118</td>\n",
       "      <td>positive</td>\n",
       "    </tr>\n",
       "    <tr>\n",
       "      <th>2</th>\n",
       "      <td>cnbc.com</td>\n",
       "      <td>https://www.cnbc.com/2022/01/21/bitcoin-is-dow...</td>\n",
       "      <td>As bitcoin drops below $40,000, here's what to...</td>\n",
       "      <td>2022-01</td>\n",
       "      <td>0.081529</td>\n",
       "      <td>0.398750</td>\n",
       "      <td>positive</td>\n",
       "    </tr>\n",
       "    <tr>\n",
       "      <th>3</th>\n",
       "      <td>cnbc.com</td>\n",
       "      <td>https://www.cnbc.com/2022/01/10/crypto-news-bi...</td>\n",
       "      <td>Bitcoin briefly falls below $40,000 and 5 othe...</td>\n",
       "      <td>2022-01</td>\n",
       "      <td>0.074155</td>\n",
       "      <td>0.515239</td>\n",
       "      <td>positive</td>\n",
       "    </tr>\n",
       "    <tr>\n",
       "      <th>4</th>\n",
       "      <td>cnbc.com</td>\n",
       "      <td>https://www.cnbc.com/2022/01/24/bitcoin-ether-...</td>\n",
       "      <td>Bitcoin climbs into positive territory after f...</td>\n",
       "      <td>2022-01</td>\n",
       "      <td>0.002964</td>\n",
       "      <td>0.381463</td>\n",
       "      <td>positive</td>\n",
       "    </tr>\n",
       "    <tr>\n",
       "      <th>...</th>\n",
       "      <td>...</td>\n",
       "      <td>...</td>\n",
       "      <td>...</td>\n",
       "      <td>...</td>\n",
       "      <td>...</td>\n",
       "      <td>...</td>\n",
       "      <td>...</td>\n",
       "    </tr>\n",
       "    <tr>\n",
       "      <th>450</th>\n",
       "      <td>dw.com</td>\n",
       "      <td>https://www.dw.com/en/bitcoin-boom-spikes-amid...</td>\n",
       "      <td>Bitcoin boom spikes amid perceived risks</td>\n",
       "      <td>2022-05</td>\n",
       "      <td>0.123292</td>\n",
       "      <td>0.397978</td>\n",
       "      <td>positive</td>\n",
       "    </tr>\n",
       "    <tr>\n",
       "      <th>451</th>\n",
       "      <td>dw.com</td>\n",
       "      <td>https://www.dw.com/en/central-african-republic...</td>\n",
       "      <td>Central African Republic adopts Bitcoin as leg...</td>\n",
       "      <td>2022-05</td>\n",
       "      <td>0.053241</td>\n",
       "      <td>0.360648</td>\n",
       "      <td>positive</td>\n",
       "    </tr>\n",
       "    <tr>\n",
       "      <th>452</th>\n",
       "      <td>dw.com</td>\n",
       "      <td>https://www.dw.com/en/crypto-investors-brace-f...</td>\n",
       "      <td>Crypto investors brace for painful period as m...</td>\n",
       "      <td>2022-06</td>\n",
       "      <td>0.060053</td>\n",
       "      <td>0.361189</td>\n",
       "      <td>positive</td>\n",
       "    </tr>\n",
       "    <tr>\n",
       "      <th>453</th>\n",
       "      <td>dw.com</td>\n",
       "      <td>https://www.dw.com/en/future-of-cryptocurrenci...</td>\n",
       "      <td>Future of cryptocurrencies 'highly uncertain'</td>\n",
       "      <td>2022-06</td>\n",
       "      <td>-0.500000</td>\n",
       "      <td>1.000000</td>\n",
       "      <td>negative</td>\n",
       "    </tr>\n",
       "    <tr>\n",
       "      <th>454</th>\n",
       "      <td>dw.com</td>\n",
       "      <td>https://www.dw.com/en/tourism-in-turkey-russia...</td>\n",
       "      <td>Tourism in Turkey: Russians stay away</td>\n",
       "      <td>2022-06</td>\n",
       "      <td>0.157510</td>\n",
       "      <td>0.435903</td>\n",
       "      <td>positive</td>\n",
       "    </tr>\n",
       "  </tbody>\n",
       "</table>\n",
       "<p>455 rows × 7 columns</p>\n",
       "</div>"
      ],
      "text/plain": [
       "    News Source                                                URL  \\\n",
       "0      cnbc.com  https://www.cnbc.com/2022/01/06/crypto-scammer...   \n",
       "1      cnbc.com  https://www.cnbc.com/2022/01/26/mark-zuckerber...   \n",
       "2      cnbc.com  https://www.cnbc.com/2022/01/21/bitcoin-is-dow...   \n",
       "3      cnbc.com  https://www.cnbc.com/2022/01/10/crypto-news-bi...   \n",
       "4      cnbc.com  https://www.cnbc.com/2022/01/24/bitcoin-ether-...   \n",
       "..          ...                                                ...   \n",
       "450      dw.com  https://www.dw.com/en/bitcoin-boom-spikes-amid...   \n",
       "451      dw.com  https://www.dw.com/en/central-african-republic...   \n",
       "452      dw.com  https://www.dw.com/en/crypto-investors-brace-f...   \n",
       "453      dw.com  https://www.dw.com/en/future-of-cryptocurrenci...   \n",
       "454      dw.com  https://www.dw.com/en/tourism-in-turkey-russia...   \n",
       "\n",
       "                                                 Title    Month  Polarity  \\\n",
       "0    Crypto scammers took a record $14 billion in 2021  2022-01  0.202862   \n",
       "1    Mark Zuckerberg's botched cryptocurrency proje...  2022-01  0.065416   \n",
       "2    As bitcoin drops below $40,000, here's what to...  2022-01  0.081529   \n",
       "3    Bitcoin briefly falls below $40,000 and 5 othe...  2022-01  0.074155   \n",
       "4    Bitcoin climbs into positive territory after f...  2022-01  0.002964   \n",
       "..                                                 ...      ...       ...   \n",
       "450           Bitcoin boom spikes amid perceived risks  2022-05  0.123292   \n",
       "451  Central African Republic adopts Bitcoin as leg...  2022-05  0.053241   \n",
       "452  Crypto investors brace for painful period as m...  2022-06  0.060053   \n",
       "453      Future of cryptocurrencies 'highly uncertain'  2022-06 -0.500000   \n",
       "454              Tourism in Turkey: Russians stay away  2022-06  0.157510   \n",
       "\n",
       "     Subjectivity Sentiment  \n",
       "0        0.492162  positive  \n",
       "1        0.314118  positive  \n",
       "2        0.398750  positive  \n",
       "3        0.515239  positive  \n",
       "4        0.381463  positive  \n",
       "..            ...       ...  \n",
       "450      0.397978  positive  \n",
       "451      0.360648  positive  \n",
       "452      0.361189  positive  \n",
       "453      1.000000  negative  \n",
       "454      0.435903  positive  \n",
       "\n",
       "[455 rows x 7 columns]"
      ]
     },
     "execution_count": 5,
     "metadata": {},
     "output_type": "execute_result"
    }
   ],
   "source": [
    "# print the dataframe with the new column\n",
    "df"
   ]
  },
  {
   "cell_type": "markdown",
   "id": "d4a69bda",
   "metadata": {},
   "source": [
    "### Plotting the Data using Seaborn"
   ]
  },
  {
   "cell_type": "code",
   "execution_count": 6,
   "id": "bf4236e0",
   "metadata": {},
   "outputs": [
    {
     "data": {
      "text/plain": [
       "[Text(0, 0, '419'), Text(0, 0, '33'), Text(0, 0, '3')]"
      ]
     },
     "execution_count": 6,
     "metadata": {},
     "output_type": "execute_result"
    },
    {
     "data": {
      "image/png": "[encoded data removed]",
      "text/plain": [
       "<Figure size 720x360 with 1 Axes>"
      ]
     },
     "metadata": {},
     "output_type": "display_data"
    }
   ],
   "source": [
    "# bar chart of the count of Sentiments over time\n",
    "sns.set(rc={'figure.figsize':(10,5)})\n",
    "ax = sns.countplot(x='Sentiment', data=df)\n",
    "ax.bar_label(ax.containers[0])"
   ]
  },
  {
   "cell_type": "code",
   "execution_count": 7,
   "id": "27b482f9",
   "metadata": {},
   "outputs": [
    {
     "data": {
      "text/plain": [
       "<AxesSubplot:xlabel='Month', ylabel='Polarity'>"
      ]
     },
     "execution_count": 7,
     "metadata": {},
     "output_type": "execute_result"
    },
    {
     "data": {
      "image/png": "[encoded data removed]",
      "text/plain": [
       "<Figure size 720x360 with 1 Axes>"
      ]
     },
     "metadata": {},
     "output_type": "display_data"
    }
   ],
   "source": [
    "# line chart of the average polarity per month for each source\n",
    "sns.set(rc={'figure.figsize':(10,5)})\n",
    "sns.lineplot(x = 'Month', y = 'Polarity', hue='News Source', ci=None, data = df)"
   ]
  },
  {
   "cell_type": "code",
   "execution_count": 8,
   "id": "ffa20a0a",
   "metadata": {},
   "outputs": [
    {
     "data": {
      "text/plain": [
       "<AxesSubplot:xlabel='Month', ylabel='Polarity'>"
      ]
     },
     "execution_count": 8,
     "metadata": {},
     "output_type": "execute_result"
    },
    {
     "data": {
      "image/png": "[encoded data removed]",
      "text/plain": [
       "<Figure size 720x360 with 1 Axes>"
      ]
     },
     "metadata": {},
     "output_type": "display_data"
    }
   ],
   "source": [
    "# bar chart of the average polarity per month for each source\n",
    "sns.set(rc={'figure.figsize':(10,5)})\n",
    "sns.barplot(y = 'Polarity', x = 'Month', hue='News Source', ci=None, data = df)"
   ]
  },
  {
   "cell_type": "code",
   "execution_count": 9,
   "id": "7adb9e72",
   "metadata": {},
   "outputs": [
    {
     "data": {
      "text/plain": [
       "[Text(0, 0, '429'), Text(0, 0, '26')]"
      ]
     },
     "execution_count": 9,
     "metadata": {},
     "output_type": "execute_result"
    },
    {
     "data": {
      "image/png": "[encoded data removed]",
      "text/plain": [
       "<Figure size 720x360 with 1 Axes>"
      ]
     },
     "metadata": {},
     "output_type": "display_data"
    }
   ],
   "source": [
    "# bar chart of the count of news for each source\n",
    "sns.set(rc={'figure.figsize':(10,5)})\n",
    "ax = sns.countplot(x='News Source', data=df)\n",
    "ax.bar_label(ax.containers[0])"
   ]
  }
 ],
 "metadata": {
  "kernelspec": {
   "display_name": "Python 3 (ipykernel)",
   "language": "python",
   "name": "python3"
  },
  "language_info": {
   "codemirror_mode": {
    "name": "ipython",
    "version": 3
   },
   "file_extension": ".py",
   "mimetype": "text/x-python",
   "name": "python",
   "nbconvert_exporter": "python",
   "pygments_lexer": "ipython3",
   "version": "3.10.0"
  }
 },
 "nbformat": 4,
 "nbformat_minor": 5
}
